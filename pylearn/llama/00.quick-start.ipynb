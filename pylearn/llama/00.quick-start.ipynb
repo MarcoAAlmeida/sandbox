{
 "cells": [
  {
   "attachments": {},
   "cell_type": "markdown",
   "metadata": {},
   "source": [
    "# Getting started with LLaMa\n",
    "\n",
    "this a quickstart based on [https://github.com/ggerganov/llama.cpp/tree/master](https://github.com/ggerganov/llama.cpp/tree/master)\n",
    "\n",
    "```\n",
    "git clone https://github.com/ggerganov/llama.cpp.git\n",
    "\n",
    "```\n",
    "\n",
    "You'll need to create the environment, and install all dependecies requirements.txt\n",
    "\n",
    "## Converting the model\n",
    "\n",
    "The Meta models were downloaded from the web and placed under `LLaMa` folder, at the same level as the sandbox folder.\n",
    "\n",
    "There are four sets of files: 7B, 13B, 30B, 65B.   Each folder correspond to the number of parameters used to train that respective model.\n",
    "\n",
    "Let's start with 7B, which is a 12.5GB file named `consolidated.00.pth`´\n",
    "\n",
    "PTH is [a common extension used to save models for the pytorch library](https://pytorch.org/tutorials/beginner/saving_loading_models.html).\n",
    "\n",
    "These PTH files need to be converted to binary format before they can be used\n",
    "\n",
    "\n",
    "```\n",
    "(.venv) PS C:\\Users\\marco\\pub\\llama.cpp> python convert.py ..\\LLaMA\\7B\\\n",
    "Loading model file ..\\LLaMA\\7B\\consolidated.00.pth\n",
    "Loading vocab file ..\\LLaMA\\tokenizer.model\n",
    "Writing vocab...\n",
    "[  1/291] Writing tensor tok_embeddings.weight                  | size  32000 x   4096  | type UnquantizedDataType(name='F16')\n",
    "....\n",
    "[291/291] Writing tensor layers.31.ffn_norm.weight              | size   4096           | type UnquantizedDataType(name='F32')\n",
    "Wrote ..\\LLaMA\\7B\\ggml-model-f16.bin\n",
    "```\n",
    "\n"
   ]
  },
  {
   "attachments": {},
   "cell_type": "markdown",
   "metadata": {},
   "source": [
    "## First outputs for 7B\n",
    "\n",
    "Let's run a simple completion from the 7B binary model generated before."
   ]
  },
  {
   "cell_type": "code",
   "execution_count": 12,
   "metadata": {},
   "outputs": [],
   "source": [
    "benchmark_prompt = \"user: Give me a succint explanation about utilitarism \\\n",
    "AI : Utilitarianism is a moral theory that emphasizes the maximization of overall happiness or utility as the guiding principle for ethical decision-making. It posits that actions should be evaluated based on their ability to produce the greatest net happiness for the greatest number of people, often measured in terms of pleasure or well-being.\\\n",
    "user:  Give me an explanation of Hegel's philosophy. \\\n",
    "AI: \\\n",
    "\""
   ]
  },
  {
   "cell_type": "code",
   "execution_count": null,
   "metadata": {},
   "outputs": [],
   "source": [
    "from llama_cpp import Llama\n",
    "llm = Llama(model_path=\"C:\\\\Users\\\\marco\\\\pub\\\\LLaMA\\\\7B\\\\ggml-model-f16.bin\")\n",
    "\n",
    "output = llm(benchmark_prompt, max_tokens=300, stop=[\"user:\", \"\\n\"], echo=True)\n",
    "print(output)"
   ]
  },
  {
   "attachments": {},
   "cell_type": "markdown",
   "metadata": {},
   "source": [
    "### a fun benchmarking prompt for chatGPT\n",
    "\n",
    "```\n",
    "I want you to evaluate two answers to the same question, grade them like a college professor\n",
    "\n",
    "Question: Give me a succint description of Hegel's philosophy\n",
    "\n",
    "answer 1:\n",
    "\n",
    "> Hegel's philosophy, often referred to as Hegelianism, is a comprehensive system of thought that explores the development and progression of ideas, known as dialectics. He believed that reality is best understood through the interplay of opposing concepts (thesis and antithesis) resulting in a synthesis, and this process continues to shape history and human consciousness. Hegel's philosophy heavily influenced various fields, including political theory, aesthetics, and social philosophy.\n",
    "\n",
    "answer 2:\n",
    "\n",
    "> Hegel was a German philosopher born in Stuttgart. He developed the concept of dialectic and his most famous work is Phenomenology of Spirit which discusses Hegel's ideas about reality and existence.\n",
    "```"
   ]
  },
  {
   "attachments": {},
   "cell_type": "markdown",
   "metadata": {},
   "source": [
    "#### chatGPT´s evaluation of LLaMa's 7B \n",
    "```\n",
    "Answer 1:\n",
    "\n",
    "Grade: A\n",
    "\n",
    "Comments: This answer provides a succinct and accurate description of Hegel's philosophy. It highlights the key elements of Hegelianism, such as the development of ideas through dialectics, the interplay of opposing concepts, and the influence on various fields. The response demonstrates a good understanding of the subject matter and effectively communicates the essential aspects of Hegel's philosophy.\n",
    "\n",
    "Answer 2:\n",
    "\n",
    "Grade: C\n",
    "\n",
    "Comments: While this answer includes some basic information about Hegel, such as his nationality and the title of one of his works, it lacks depth and fails to provide a comprehensive description of his philosophy. It does not mention key concepts like dialectics or the significance of his ideas for understanding reality and existence. The response is rather vague and does not demonstrate a strong understanding of Hegel's philosophy.\n",
    "```"
   ]
  },
  {
   "attachments": {},
   "cell_type": "markdown",
   "metadata": {},
   "source": [
    "#### 7B lacking\n",
    "\n",
    "Answer 2 was from chatGPT itself (A), answer 1 was from LLaMa itself (C)\n",
    "\n",
    "So LLama 7B lagged behind, but that actually varied a lot, depending on the exact wording of the prompt. \n",
    "\n",
    "I was able to get LLaMa to give a better reply than chatGPT once, but I could not reproduce the results again.\n",
    "\n",
    "##"
   ]
  },
  {
   "attachments": {},
   "cell_type": "markdown",
   "metadata": {},
   "source": [
    "## moving up to 13B\n",
    "\n",
    "The 13B model is actually split into two pth files, which together take 48.5GB\n",
    "\n",
    "\n",
    "```\n",
    "(.venv) PS C:\\Users\\marco\\pub\\llama.cpp> python .\\convert.py ..\\LLaMA\\13B\\\n",
    "Loading model file ..\\LLaMA\\13B\\consolidated.00.pth\n",
    "Loading model file ..\\LLaMA\\13B\\consolidated.01.pth\n",
    "Loading vocab file ..\\LLaMA\\tokenizer.model\n",
    "Writing vocab...\n",
    "[  1/363] Writing tensor tok_embeddings.weight                  | size  32000 x   5120  | type UnquantizedDataType(name='F16')\n",
    "[  2/363] Writing tensor norm.weight                            | size   5120           | type UnquantizedDataType(name='F32')\n",
    "...\n",
    "Wrote ..\\LLaMA\\13B\\ggml-model-f16.bin\n",
    "```\n",
    "\n"
   ]
  },
  {
   "cell_type": "code",
   "execution_count": 13,
   "metadata": {},
   "outputs": [
    {
     "name": "stderr",
     "output_type": "stream",
     "text": [
      "AVX = 1 | AVX2 = 1 | AVX512 = 0 | AVX512_VBMI = 0 | AVX512_VNNI = 0 | FMA = 1 | NEON = 0 | ARM_FMA = 0 | F16C = 1 | FP16_VA = 0 | WASM_SIMD = 0 | BLAS = 0 | SSE3 = 1 | VSX = 0 | \n"
     ]
    },
    {
     "name": "stdout",
     "output_type": "stream",
     "text": [
      "{'id': 'cmpl-be34f8b6-63ae-41a7-b6c4-c6a9110e238b', 'object': 'text_completion', 'created': 1684702264, 'model': 'C:\\\\Users\\\\marco\\\\pub\\\\LLaMA\\\\13B\\\\ggml-model-f16.bin', 'choices': [{'text': 'user: Give me a succint explanation about utilitarism AI : Utilitarianism is a moral theory that emphasizes the maximization of overall happiness or utility as the guiding principle for ethical decision-making. It posits that actions should be evaluated based on their ability to produce the greatest net happiness for the greatest number of people, often measured in terms of pleasure or well-being.user:  Give me an explanation of Hegel\\'s philosophy. AI:  The German philosopher Georg Wilhelm Friedrich Hegel (1770–1831) proposed a dialectical approach to metaphysics, the philosophy of mind and the theory of knowledge that remains influential today. He wrote about the interrelationship between ideas such as self-consciousness and absolute mind. He has also been suggested to have created or at least popularized the idea of \"synthesis,\" which is a combination of thesis and antithesis.', 'index': 0, 'logprobs': None, 'finish_reason': 'stop'}], 'usage': {'prompt_tokens': 103, 'completion_tokens': 103, 'total_tokens': 206}}\n"
     ]
    }
   ],
   "source": [
    "llm = Llama(model_path=\"C:\\\\Users\\\\marco\\\\pub\\\\LLaMA\\\\13B\\\\ggml-model-f16.bin\")\n",
    "\n",
    "output = llm(benchmark_prompt, max_tokens=300, stop=[\"user:\", \"\\n\"], echo=True)\n",
    "print(output)"
   ]
  },
  {
   "attachments": {},
   "cell_type": "markdown",
   "metadata": {},
   "source": [
    "LLaMa's answer this time (it took 1m56s to compute):\n",
    "\n",
    "> The German philosopher Georg Wilhelm Friedrich Hegel (1770–1831) proposed a dialectical approach to metaphysics, the philosophy of mind and the theory of knowledge that remains influential today. He wrote about the interrelationship between ideas such as self-consciousness and absolute mind. He has also been suggested to have created or at least popularized the idea of \"synthesis,\" which is a combination of thesis and antithesis.\n",
    "\n",
    "### evaluation of 13B\n",
    "\n",
    "```\n",
    "Answer 1:\n",
    "\n",
    "Grade: A\n",
    "\n",
    "Evaluation: This answer provides a concise and accurate description of Hegel's philosophy. It introduces the concept of Hegelianism as a comprehensive system of thought that explores the development of ideas through dialectics. It explains Hegel's belief in the interplay of opposing concepts leading to synthesis, which continues to shape history and human consciousness. It also mentions the broad influence of Hegel's philosophy on various fields.\n",
    "\n",
    "Answer 2:\n",
    "\n",
    "Grade: B\n",
    "\n",
    "Evaluation: This answer briefly introduces Hegel as a German philosopher and acknowledges his contributions to metaphysics, the philosophy of mind, and the theory of knowledge. It mentions his exploration of the interrelationship between ideas such as self-consciousness and absolute mind. However, it lacks the depth and clarity of Answer 1, providing less information about the core concepts of Hegelianism and the significance of Hegel's ideas. The mention of the concept of \"synthesis\" could be expanded upon to provide a better understanding of its role in Hegel's philosophy.\n",
    "```\n",
    "\n",
    "13B's B is better than 7B's C, but the improvement came at the cost of almost 2min of computation in relatively good hardware.\n",
    "\n",
    "## Moving up to 30B\n",
    "\n",
    "The 30B model files are ~60.5GB large.\n",
    "\n",
    "    "
   ]
  },
  {
   "cell_type": "code",
   "execution_count": null,
   "metadata": {},
   "outputs": [],
   "source": [
    "llm = Llama(model_path=\"C:\\\\Users\\\\marco\\\\pub\\\\LLaMA\\\\30B\\\\ggml-model-f16.bin\")\n",
    "\n",
    "output = llm(benchmark_prompt, max_tokens=300, stop=[\"user:\", \"\\n\"], echo=True)\n",
    "print(output)"
   ]
  },
  {
   "attachments": {},
   "cell_type": "markdown",
   "metadata": {},
   "source": [
    "# Moving up to 65B\n",
    "\n",
    "The 65B model files are ~121GB large."
   ]
  }
 ],
 "metadata": {
  "kernelspec": {
   "display_name": ".venv",
   "language": "python",
   "name": "python3"
  },
  "language_info": {
   "codemirror_mode": {
    "name": "ipython",
    "version": 3
   },
   "file_extension": ".py",
   "mimetype": "text/x-python",
   "name": "python",
   "nbconvert_exporter": "python",
   "pygments_lexer": "ipython3",
   "version": "3.11.3"
  },
  "orig_nbformat": 4
 },
 "nbformat": 4,
 "nbformat_minor": 2
}
