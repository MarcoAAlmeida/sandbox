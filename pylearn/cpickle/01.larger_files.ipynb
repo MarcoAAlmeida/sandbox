{
 "cells": [
  {
   "cell_type": "code",
   "execution_count": 7,
   "metadata": {},
   "outputs": [],
   "source": [
    "\"\"\"\n",
    "Modern applications usually involve large chunks of data, which iss specially true for machine learning models\n",
    "\n",
    "https://github.com/datablist/sample-csv-files\n",
    "\n",
    "\"\"\"\n",
    "import bz2\n",
    "import _pickle as cPickle\n",
    "import pickle\n",
    "import pandas\n",
    "\n",
    "def plain_load(file):\n",
    "    with open(file, \"rb\") as f:\n",
    "      return cPickle.load(f)\n",
    "\n",
    "def pandas_load(file):\n",
    "    df = pandas.read_csv(file)\n",
    "    return df\n",
    "\n",
    "def plain_dump(file, data):\n",
    "    with open(file, \"wb\") as f:\n",
    "      return cPickle.dump(data,f)\n",
    "\n",
    "def compress_pickle_b2z(file, data):\n",
    "    with bz2.BZ2File(file, 'w') as f:\n",
    "        cPickle.dump(data, f)\n",
    "\n",
    "def decompress_pickle_b2z(file):\n",
    "    data = bz2.BZ2File(file, 'rb')\n",
    "    data = cPickle.load(data)\n",
    "    return data"
   ]
  },
  {
   "cell_type": "code",
   "execution_count": 2,
   "metadata": {},
   "outputs": [],
   "source": [
    "\"\"\"\n",
    "But here we'll be picking a relatively small file of about 16MB\n",
    "\n",
    "https://media.githubusercontent.com/media/datablist/sample-csv-files/main/files/customers/customers-100000.csv\n",
    "\n",
    "The content doesn't really matter for the purpose of this tutorial\n",
    "\"\"\"\n",
    "\n",
    "import requests\n",
    "\n",
    "url = 'https://media.githubusercontent.com/media/datablist/sample-csv-files/main/files/customers/customers-100000.csv'\n",
    "\n",
    "response = requests.get(url)\n",
    "\n",
    "with open('../data/customers-100000.csv', 'wb') as file:\n",
    "    file.write(response.content)\n",
    "\n",
    "\n",
    "\n"
   ]
  },
  {
   "cell_type": "code",
   "execution_count": 6,
   "metadata": {},
   "outputs": [
    {
     "name": "stdout",
     "output_type": "stream",
     "text": [
      "589 ms ± 28.7 ms per loop (mean ± std. dev. of 7 runs, 1 loop each)\n",
      "original_size = 17317579 - pickle_size = 15833716 - compression_ratio = 8.57%\n",
      "157 ms ± 2.66 ms per loop (mean ± std. dev. of 7 runs, 10 loops each)\n"
     ]
    }
   ],
   "source": [
    "\"\"\"\n",
    "Using regular pickle by itself already guarantees some sort of compression\n",
    "\n",
    "In the case of this particular CSV file, compressed size was ~8.5% smaller than the original\n",
    "\n",
    "loading times also improved from ~560ms to ~173ms\n",
    "\"\"\"\n",
    "\n",
    "%timeit pandas_load('../data/customers-100000.csv')\n",
    "\n",
    "plain_dump('../data/customers-100000.pickle', pandas_load('../data/customers-100000.csv'))\n",
    "\n",
    "import os\n",
    "\n",
    "original_size = os.path.getsize(\"../data/customers-100000.csv\")\n",
    "\n",
    "pickle_size = os.path.getsize(\"../data/customers-100000.pickle\")\n",
    "\n",
    "compression_ratio = 1 - pickle_size/original_size\n",
    "\n",
    "print(f'original_size = {original_size} - pickle_size = {pickle_size} - compression_ratio = { compression_ratio:.2%}')\n",
    "\n",
    "%timeit plain_load('../data/customers-100000.pickle')\n",
    "\n",
    "\n"
   ]
  },
  {
   "cell_type": "code",
   "execution_count": 5,
   "metadata": {},
   "outputs": [
    {
     "data": {
      "text/plain": [
       "'\\nThe dataframe can be loaded from the pickle, and behave just the same.\\n\\n\\n'"
      ]
     },
     "execution_count": 5,
     "metadata": {},
     "output_type": "execute_result"
    }
   ],
   "source": [
    "\"\"\"\n",
    "The dataframe can be loaded from the pickle, and behave just the same.\n",
    "\n",
    "In fact, that's the whole point of serialization. :)\n",
    "\n",
    "\"\"\"\n",
    "\n",
    "df_from_pickle = plain_load('../data/customers-100000.pickle')\n",
    "df_from_pickle.head()"
   ]
  },
  {
   "cell_type": "code",
   "execution_count": 9,
   "metadata": {},
   "outputs": [
    {
     "name": "stdout",
     "output_type": "stream",
     "text": [
      "1.1 s ± 86.2 ms per loop (mean ± std. dev. of 7 runs, 1 loop each)\n",
      "original_size = 17317579 - pickle_size = 15833716 - pickle_compression_ratio = 8.57%\n",
      "original_size = 17317579 - compressed_b2z_pickle_size = 4672996 - compressed_pickle_compression_ratio = 73.02%\n"
     ]
    }
   ],
   "source": [
    "\"\"\"\n",
    "We can get even better compression, at expense of loading time which went from 589ms to 1.1s (almost doubled)\n",
    "\n",
    "In this example the compression rate for b2z made the file ~70% smaller than original (compared to ~8.5% with pickle only, without any compression)\n",
    "\n",
    "There is a tradeoff between file size and load times, and in the next notebook, we'll see that B2Z is not our only option\n",
    "\"\"\"\n",
    "\n",
    "df = plain_load('../data/customers-100000.pickle')\n",
    "\n",
    "compress_pickle_b2z(\"../data/customers-100000.pbz2\", df)\n",
    "\n",
    "%timeit decompress_pickle_b2z(\"../data/customers-100000.pbz2\")\n",
    "\n",
    "original_size = os.path.getsize(\"../data/customers-100000.csv\")\n",
    "\n",
    "pickle_size = os.path.getsize(\"../data/customers-100000.pickle\")\n",
    "\n",
    "compressed_b2z_pickle_size = os.path.getsize(\"../data/customers-100000.pbz2\")\n",
    "\n",
    "pickle_compression_ratio = 1 - pickle_size/original_size\n",
    "\n",
    "compressed_pickle_compression_ratio = 1 - compressed_b2z_pickle_size/original_size\n",
    "\n",
    "print(f'original_size = {original_size} - pickle_size = {pickle_size} - pickle_compression_ratio = { pickle_compression_ratio:.2%}')\n",
    "\n",
    "print(f'original_size = {original_size} - compressed_b2z_pickle_size = {compressed_b2z_pickle_size} - compressed_pickle_compression_ratio = { compressed_pickle_compression_ratio:.2%}')\n"
   ]
  }
 ],
 "metadata": {
  "kernelspec": {
   "display_name": ".venv",
   "language": "python",
   "name": "python3"
  },
  "language_info": {
   "codemirror_mode": {
    "name": "ipython",
    "version": 3
   },
   "file_extension": ".py",
   "mimetype": "text/x-python",
   "name": "python",
   "nbconvert_exporter": "python",
   "pygments_lexer": "ipython3",
   "version": "3.10.10"
  },
  "orig_nbformat": 4
 },
 "nbformat": 4,
 "nbformat_minor": 2
}
