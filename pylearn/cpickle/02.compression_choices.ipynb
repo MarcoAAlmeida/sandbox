{
 "cells": [
  {
   "attachments": {},
   "cell_type": "markdown",
   "metadata": {},
   "source": [
    "# Pickle compression comparison\n",
    "\n",
    "Let's compare three popular algorithms\n",
    "\n",
    "- [bzip2](https://docs.python.org/3/library/bz2.html)\n",
    "- [gzip](https://docs.python.org/3/library/gzip.html)\n",
    "- [blosc2](https://github.com/Blosc/python-blosc2)\n",
    "\n",
    "Blosc is a high performance compressor optimized for binary data (i.e. floating point numbers, integers and booleans, although it can handle string data too). I\n",
    "\n"
   ]
  },
  {
   "cell_type": "code",
   "execution_count": 5,
   "metadata": {},
   "outputs": [],
   "source": [
    "\n",
    "import bz2, gzip, blosc2\n",
    "import _pickle as cPickle\n",
    "import pickle\n",
    "import pandas\n",
    "\n",
    "def load_plain(file):\n",
    "    with open(file, \"rb\") as f:\n",
    "      return cPickle.load(f)\n",
    "\n",
    "def load_pandas(file):\n",
    "    df = pandas.read_csv(file)\n",
    "    return df\n",
    "\n",
    "def dump_plain(file, data):\n",
    "    with open(file, \"wb\") as f:\n",
    "      return cPickle.dump(data,f)\n",
    "\n",
    "\n",
    "def compress_pickle_b2z(file, data):\n",
    "    with bz2.BZ2File(file, 'wb') as f:\n",
    "        cPickle.dump(data, f)\n",
    "\n",
    "def decompress_pickle_b2z(file):\n",
    "    data = bz2.BZ2File(file, 'rb')\n",
    "    return cPickle.load(data)\n",
    "\n",
    "\n",
    "def decompress_pickle_gzip(file):\n",
    "    with open(file, 'rb') as f:\n",
    "        return cPickle.loads(gzip.decompress(f.read()))\n",
    "\n",
    "def compress_pickle_gzip(file, data):\n",
    "    with open(file, 'wb') as f:\n",
    "        f.write(gzip.compress(cPickle.dumps(data)))\n",
    "\n",
    "\n",
    "def decompress_pickle_blosc2(file):\n",
    "    with open(file, 'rb') as f:\n",
    "        return cPickle.loads(blosc2.decompress(f.read()))\n",
    "\n",
    "def compress_pickle_blosc2(file, data):\n",
    "    blosc2.MAX_BUFFERSIZE = 8 * 1024 * 1024 * 1024\n",
    "    with open(file, 'wb') as f:\n",
    "        f.write(blosc2.compress(cPickle.dumps(data)))\n",
    "\n"
   ]
  },
  {
   "attachments": {},
   "cell_type": "markdown",
   "metadata": {},
   "source": [
    "## Small pickle (around 16MB)\n",
    "\n",
    "Let's download the ´customers-100000.csv´ file found at [datablist github repo](https://github.com/datablist/sample-csv-files)\n",
    "\n",
    "We'll turn the pandas frame into a pickle, then compress it with each algorithm."
   ]
  },
  {
   "cell_type": "code",
   "execution_count": 11,
   "metadata": {},
   "outputs": [],
   "source": [
    "df = pandas.read_csv('../data/datablist/customers-100000.csv')\n",
    "dump_plain('../data/datablist/customers-100000.pickle', df)"
   ]
  },
  {
   "attachments": {},
   "cell_type": "markdown",
   "metadata": {},
   "source": [
    "## Inspecting the pickle\n",
    "\n",
    "Let's inspect the generated file."
   ]
  },
  {
   "cell_type": "code",
   "execution_count": null,
   "metadata": {},
   "outputs": [],
   "source": [
    "import pickletools\n",
    "\n",
    "\n",
    "def inspect_pickle(pickle_path):\n",
    "    with open(pickle_path, 'rb') as f:\n",
    "       data = f.read()\n",
    "    pickletools.dis(data)\n",
    "\n",
    "inspect_pickle('../data/datablist/customers-100000.pickle')"
   ]
  },
  {
   "attachments": {},
   "cell_type": "markdown",
   "metadata": {},
   "source": [
    "The inspection confirms it's a pandas DataFrame\n",
    "\n",
    "```\n",
    "    0: \\x80 PROTO      4\n",
    "    2: \\x95 FRAME      276\n",
    "   11: \\x8c SHORT_BINUNICODE 'pandas.core.frame'\n",
    "   30: \\x94 MEMOIZE    (as 0)\n",
    "   31: \\x8c SHORT_BINUNICODE 'DataFrame'\n",
    "```\n",
    "\n",
    "## Compressing it\n",
    "\n",
    "Let's compress with each algorithm."
   ]
  },
  {
   "cell_type": "code",
   "execution_count": 15,
   "metadata": {},
   "outputs": [],
   "source": [
    "train = load_plain('../data/datablist/customers-100000.pickle')\n",
    "\n",
    "compress_pickle_b2z(\"../data/datablist/customers-100000.pbz2\", train)\n",
    "compress_pickle_gzip(\"../data/datablist/customers-100000.gzip\", train)\n",
    "compress_pickle_blosc2(\"../data/datablist/customers-100000.blosc2\", train)"
   ]
  },
  {
   "attachments": {},
   "cell_type": "markdown",
   "metadata": {},
   "source": [
    "As with any pickle, any of the three zipped files can be used to restore the original object."
   ]
  },
  {
   "cell_type": "code",
   "execution_count": null,
   "metadata": {},
   "outputs": [],
   "source": [
    "df = decompress_pickle_gzip(\"../data/customers-100000.gzip\")\n",
    "df.head()"
   ]
  },
  {
   "attachments": {},
   "cell_type": "markdown",
   "metadata": {},
   "source": [
    "Let's record the decompression times."
   ]
  },
  {
   "cell_type": "code",
   "execution_count": null,
   "metadata": {},
   "outputs": [],
   "source": [
    "%timeit decompress_pickle_gzip(\"../data/datablist/customers-100000.gzip\")\n",
    "%timeit decompress_pickle_b2z(\"../data/datablist/customers-100000.pbz2\")\n",
    "%timeit decompress_pickle_blosc2(\"../data/datablist/customers-100000.blosc2\")\n"
   ]
  },
  {
   "attachments": {},
   "cell_type": "markdown",
   "metadata": {},
   "source": [
    "## Visualizing results\n",
    "\n",
    "Let´s compare files sizes, and compression rates.\n",
    "\n",
    "First a class to hold results:"
   ]
  },
  {
   "cell_type": "code",
   "execution_count": 12,
   "metadata": {},
   "outputs": [],
   "source": [
    "import os\n",
    "\n",
    "class PerformanceStats:\n",
    "    def __init__(self, filename, method):\n",
    "        self.method = method\n",
    "        self.filename = filename\n",
    "        self.original = 0.0\n",
    "        self.compressed = 0.0\n",
    "        self.ratio = 1\n",
    "\n",
    "    def get_ratio(self):\n",
    "        pickle_path = f\"{self.filename}.pickle\"\n",
    "        file_path = f\"{self.filename}.{self.method}\"\n",
    "\n",
    "        return os.path.getsize(file_path)/os.path.getsize(pickle_path)\n",
    "    \n",
    "\n"
   ]
  },
  {
   "attachments": {},
   "cell_type": "markdown",
   "metadata": {},
   "source": [
    "Let's plot the results:"
   ]
  },
  {
   "cell_type": "code",
   "execution_count": 15,
   "metadata": {},
   "outputs": [
    {
     "data": {
      "image/png": "[encoded data removed]",
      "text/plain": [
       "<Figure size 1000x500 with 2 Axes>"
      ]
     },
     "metadata": {},
     "output_type": "display_data"
    }
   ],
   "source": [
    "import matplotlib.pyplot as plt\n",
    "\n",
    "def plot_performance_stats(df):\n",
    "    pivot_table = df.pivot_table(index='algorithm_name', values=['compression_ratio', 'execution_time'], aggfunc='mean')\n",
    "\n",
    "    fig, ax1 = plt.subplots(figsize=(10, 5))\n",
    "\n",
    "    bars = pivot_table['compression_ratio'].plot(kind='bar', ax=ax1, color='b')\n",
    "    ax1.set_ylabel('Compression Ratio', color='b')\n",
    "    ax1.tick_params('y', colors='b')\n",
    "\n",
    "    # Add actual values to bars\n",
    "    for i, v in enumerate(pivot_table['compression_ratio']):\n",
    "        ax1.text(i-0.2, v+0.02, str(round(v, 3)), color='black', fontsize=10)\n",
    "\n",
    "    ax2 = ax1.twinx()\n",
    "\n",
    "    pivot_table['execution_time'].plot(kind='line', ax=ax2, color='r', marker='o')\n",
    "    ax2.set_ylabel('Execution Time (seconds)', color='r')\n",
    "    ax2.tick_params('y', colors='r')\n",
    "\n",
    "    ax1.set_xlabel('Algorithm Name')\n",
    "    ax1.set_title('Compression Ratio and Execution Time by Algorithm')\n",
    "\n",
    "    # show the plot\n",
    "    plt.show()\n",
    "\n",
    "\n",
    "\n",
    "data = {'compression_ratio': [\n",
    "            PerformanceStats('../data/datablist/customers-100000', 'gzip').get_ratio(),\n",
    "            PerformanceStats('../data/datablist/customers-100000', 'pbz2').get_ratio(), \n",
    "            PerformanceStats('../data/datablist/customers-100000', 'blosc2').get_ratio()],\n",
    "        'execution_time': [112, 499, 68.7],\n",
    "        'algorithm_name': ['gzip', 'pbz2', 'blosc2']}\n",
    "\n",
    "plot_performance_stats(pandas.DataFrame(data))\n",
    "\n",
    "\n"
   ]
  },
  {
   "attachments": {},
   "cell_type": "markdown",
   "metadata": {},
   "source": [
    "## Results Analysis\n",
    "\n",
    "That was an interesting result. \n",
    "\n",
    "blosc2 had best loading time, but worse compression rate\n",
    "\n",
    "pbz2 was twice as efficent for compression, but ~10x slower\n",
    "\n",
    "\n",
    "# Larger pickles\n",
    "\n",
    "## Failed attempt\n",
    "\n",
    "Our first attempt of a large pickle file was too ambitious.\n",
    "\n",
    "The pickle had about ~3GB\n",
    "https://www.kaggle.com/code/columbia2131/speed-up-reading-csv-to-pickle/input\n",
    "\n",
    "The blosc2 algorithm failed with `out of memory` exception multiple times (even on a 32GB RAM machine)\n",
    "\n",
    "## globo.com news interactions pickle\n",
    "\n",
    "Let's try with another pickle of about ~364MB\n",
    "\n",
    "https://www.kaggle.com/datasets/gspmoreira/news-portal-user-interactions-by-globocom\n"
   ]
  },
  {
   "cell_type": "code",
   "execution_count": 6,
   "metadata": {},
   "outputs": [],
   "source": [
    "def compress_multiple(file_path):\n",
    "    train = load_plain(f'{file_path}.pickle')\n",
    "\n",
    "    compress_pickle_blosc2(f'{file_path}.blosc2', train)\n",
    "    compress_pickle_b2z(f'{file_path}.pbz2', train)\n",
    "    compress_pickle_gzip(f'{file_path}.gzip', train)\n",
    "\n",
    "compress_multiple('../data/globo.com/articles_embeddings')\n",
    "\n"
   ]
  },
  {
   "attachments": {},
   "cell_type": "markdown",
   "metadata": {},
   "source": [
    "Let's record the decompression times"
   ]
  },
  {
   "cell_type": "code",
   "execution_count": null,
   "metadata": {},
   "outputs": [],
   "source": [
    "%timeit decompress_pickle_gzip(\"../data/globo.com/articles_embeddings.gzip\")\n",
    "%timeit decompress_pickle_b2z(\"../data/globo.com/articles_embeddings.pbz2\")\n",
    "%timeit decompress_pickle_blosc2(\"../data/globo.com/articles_embeddings.blosc2\")"
   ]
  },
  {
   "cell_type": "code",
   "execution_count": null,
   "metadata": {},
   "outputs": [],
   "source": [
    "\n",
    "data = {'compression_ratio': [\n",
    "            PerformanceStats('../data/globo.com/articles_embeddings', 'gzip').get_ratio(),\n",
    "            PerformanceStats('../data/globo.com/articles_embeddings', 'pbz2').get_ratio(), \n",
    "            PerformanceStats('../data/globo.com/articles_embeddings', 'blosc2').get_ratio()],\n",
    "        'execution_time': [1750, 15500, 213],\n",
    "        'algorithm_name': ['gzip', 'pbz2', 'blosc2']}\n",
    "\n",
    "plot_performance_stats(pandas.DataFrame(data))"
   ]
  },
  {
   "attachments": {},
   "cell_type": "markdown",
   "metadata": {},
   "source": [
    "The first thing to notice are the small compression rates.\n",
    "\n",
    "```\n",
    "data[\"compression_ratio\"]\n",
    "[0.9201726782856429, 0.9306057770322468, 0.9963305194058056]\n",
    "```\n",
    "\n",
    "blosc2 offered almost no compression at all (less than ~1%), while pbz2 had ~7%, and gzip only a little better (~8%).\n",
    "\n",
    "\n"
   ]
  },
  {
   "cell_type": "code",
   "execution_count": 29,
   "metadata": {},
   "outputs": [],
   "source": [
    "inspect_pickle(\"../data/globo.com/articles_embeddings.pickle\")"
   ]
  },
  {
   "attachments": {},
   "cell_type": "markdown",
   "metadata": {},
   "source": [
    "Inspection of the original pickle shows it's a `numpy ndarray`, which was probably already compressed in the original source.\n",
    "\n",
    "\n",
    "Sometimes compression can only add overhead for loading times, without any major gains in disk space.\n",
    "\n",
    "This is clearly a case **where compression would not recommended**.\n"
   ]
  },
  {
   "attachments": {},
   "cell_type": "markdown",
   "metadata": {},
   "source": [
    "# wiki-news\n",
    "\n",
    "https://www.kaggle.com/datasets/correctoryui/fasttext-wikinews\n"
   ]
  },
  {
   "cell_type": "code",
   "execution_count": null,
   "metadata": {},
   "outputs": [],
   "source": [
    "import pickletools\n",
    "\n",
    "def inspect_pickle(pickle_path, num_bytes=100):\n",
    "    with open(pickle_path, 'rb') as f:\n",
    "        data = f.read(num_bytes)\n",
    "    try:\n",
    "        pickletools.dis(data)\n",
    "\n",
    "    except Exception:\n",
    "        print(\"short-circuited for huge files\")\n",
    "\n",
    "    \n",
    "inspect_pickle('../data/wiki-news/wiki-news-300d-1M.pickle', 1000)\n"
   ]
  },
  {
   "attachments": {},
   "cell_type": "markdown",
   "metadata": {},
   "source": [
    "Inspection of the pickle indicates that the class is a `gensim.models.keyedvectors Word2VecKeyedVectors`\n",
    "\n",
    "```\n",
    "pip install gensim\n",
    "```"
   ]
  },
  {
   "cell_type": "code",
   "execution_count": null,
   "metadata": {},
   "outputs": [],
   "source": [
    "\n",
    "compress_multiple('../data/wiki-news/wiki-news-300d-1M')"
   ]
  },
  {
   "attachments": {},
   "cell_type": "markdown",
   "metadata": {},
   "source": [
    "A quick inspection of the generated file indicates better compression rates, let's record the loading times"
   ]
  },
  {
   "cell_type": "code",
   "execution_count": 10,
   "metadata": {},
   "outputs": [
    {
     "name": "stdout",
     "output_type": "stream",
     "text": [
      "5.47 s ± 70.2 ms per loop (mean ± std. dev. of 7 runs, 1 loop each)\n",
      "36.2 s ± 526 ms per loop (mean ± std. dev. of 7 runs, 1 loop each)\n",
      "1.37 s ± 57.8 ms per loop (mean ± std. dev. of 7 runs, 1 loop each)\n"
     ]
    }
   ],
   "source": [
    "%timeit decompress_pickle_gzip(\"../data/wiki-news/wiki-news-300d-1M.gzip\")\n",
    "%timeit decompress_pickle_b2z(\"../data/wiki-news/wiki-news-300d-1M.pbz2\")\n",
    "%timeit decompress_pickle_blosc2(\"../data/wiki-news/wiki-news-300d-1M.blosc2\")"
   ]
  },
  {
   "cell_type": "code",
   "execution_count": null,
   "metadata": {},
   "outputs": [],
   "source": [
    "data = {'compression_ratio': [\n",
    "            PerformanceStats('../data/wiki-news/wiki-news-300d-1M', 'gzip').get_ratio(),\n",
    "            PerformanceStats('../data/wiki-news/wiki-news-300d-1M', 'pbz2').get_ratio(), \n",
    "            PerformanceStats('../data/wiki-news/wiki-news-300d-1M', 'blosc2').get_ratio()],\n",
    "        'execution_time': [1750, 15500, 213],\n",
    "        'algorithm_name': ['gzip', 'pbz2', 'blosc2']}\n",
    "\n",
    "plot_performance_stats(pandas.DataFrame(data))"
   ]
  },
  {
   "attachments": {},
   "cell_type": "markdown",
   "metadata": {},
   "source": [
    "### Result analysis\n",
    "\n",
    "The same pattern as earlier still applies, with almost no compression from blosc2.\n",
    "\n",
    "If some compression is desired, than `gzip` would give good compression without too much overhead."
   ]
  },
  {
   "attachments": {},
   "cell_type": "markdown",
   "metadata": {},
   "source": [
    "# Conclusion\n",
    "\n",
    "Some things to keep in mind:\n",
    "\n",
    "1. **any compression will add loading overhead**\n",
    "2. if you care more about short loading times, then use `blosc2`.  If you're lucky, you'll get some compression, depending on the nature of the original pickle\n",
    "3. if you only care about small size, then use `pbz2`.  But be ready to increase your loading overhead by about 10x\n",
    "4. `gzip` usually gives a more balanced trade-off\n",
    "\n",
    "\n",
    "Maybe you´ll need to save charges by using a smaller pod, with less memory and disk space.\n",
    "\n",
    "Maybe you care about performance, but don't want to give up on saving disk space.\n",
    "\n",
    "The choice of which algorithm will depend on circumstances.\n",
    "\n",
    "I hope this gives you some food for thought, or a head start for further analysis.\n",
    "\n",
    "Either way, please let me know.  :)"
   ]
  },
  {
   "cell_type": "markdown",
   "metadata": {},
   "source": []
  }
 ],
 "metadata": {
  "kernelspec": {
   "display_name": ".venv",
   "language": "python",
   "name": "python3"
  },
  "language_info": {
   "codemirror_mode": {
    "name": "ipython",
    "version": 3
   },
   "file_extension": ".py",
   "mimetype": "text/x-python",
   "name": "python",
   "nbconvert_exporter": "python",
   "pygments_lexer": "ipython3",
   "version": "3.11.3"
  },
  "orig_nbformat": 4
 },
 "nbformat": 4,
 "nbformat_minor": 2
}
